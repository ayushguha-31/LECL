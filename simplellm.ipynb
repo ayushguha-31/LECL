{
 "cells": [
  {
   "cell_type": "code",
   "execution_count": 1,
   "metadata": {},
   "outputs": [],
   "source": [
    "## OpenAI API KEY AND OPEN source models - Llama3, Gemma2, Mistral ---Groq"
   ]
  },
  {
   "cell_type": "code",
   "execution_count": 2,
   "metadata": {},
   "outputs": [],
   "source": [
    "import os\n",
    "from dotenv import load_dotenv\n",
    "load_dotenv\n",
    "\n",
    "import openai\n",
    "openai_api_key=os.getenv(\"OPENAI_API_KEY\")\n",
    "Groq_api_key=os.getenv('GROQ_API_KEY')"
   ]
  },
  {
   "cell_type": "code",
   "execution_count": 5,
   "metadata": {},
   "outputs": [
    {
     "data": {
      "text/plain": [
       "ChatGroq(client=<groq.resources.chat.completions.Completions object at 0x000002029C400510>, async_client=<groq.resources.chat.completions.AsyncCompletions object at 0x000002029CC6A690>, model_name='Gemma2-9b-It', groq_api_key=SecretStr('**********'))"
      ]
     },
     "execution_count": 5,
     "metadata": {},
     "output_type": "execute_result"
    }
   ],
   "source": [
    "from langchain_groq import ChatGroq\n",
    "from langchain_openai import ChatOpenAI\n",
    "\n",
    "\n",
    "model=ChatGroq(model=\"Gemma2-9b-It\",groq_api_key=Groq_api_key)\n",
    "model"
   ]
  },
  {
   "cell_type": "code",
   "execution_count": 6,
   "metadata": {},
   "outputs": [
    {
     "data": {
      "text/plain": [
       "AIMessage(content=\"Here's the translation, keeping in mind the informal nature of the question:\\n\\n* **Bonjour** (Hello)\\n* **Comment vas-tu ?** (How are you? - informal, to someone you know well) \\n\\n\\nLet me know if you'd like other variations, like a more formal way to ask!\\n\", response_metadata={'token_usage': {'completion_tokens': 71, 'prompt_tokens': 21, 'total_tokens': 92, 'completion_time': 0.129090909, 'prompt_time': 0.000147139, 'queue_time': 0.014993270000000001, 'total_time': 0.129238048}, 'model_name': 'Gemma2-9b-It', 'system_fingerprint': 'fp_10c08bf97d', 'finish_reason': 'stop', 'logprobs': None}, id='run-d035338e-974e-49c9-81e0-7fd79e931839-0', usage_metadata={'input_tokens': 21, 'output_tokens': 71, 'total_tokens': 92})"
      ]
     },
     "execution_count": 6,
     "metadata": {},
     "output_type": "execute_result"
    }
   ],
   "source": [
    "from langchain_core.messages import HumanMessage,SystemMessage\n",
    "\n",
    "messages=[\n",
    "    SystemMessage(content='Translate the following from English to French'),\n",
    "    HumanMessage(content='Hello How are you ?')\n",
    "]\n",
    "\n",
    "result=model.invoke(messages)\n",
    "result"
   ]
  },
  {
   "cell_type": "code",
   "execution_count": 7,
   "metadata": {},
   "outputs": [
    {
     "data": {
      "text/plain": [
       "\"Here's the translation, keeping in mind the informal nature of the question:\\n\\n* **Bonjour** (Hello)\\n* **Comment vas-tu ?** (How are you? - informal, to someone you know well) \\n\\n\\nLet me know if you'd like other variations, like a more formal way to ask!\\n\""
      ]
     },
     "execution_count": 7,
     "metadata": {},
     "output_type": "execute_result"
    }
   ],
   "source": [
    "from langchain_core.output_parsers import StrOutputParser       ##responsible to display the message from LLM\n",
    "parser=StrOutputParser()\n",
    "parser.invoke(result)"
   ]
  },
  {
   "cell_type": "code",
   "execution_count": 8,
   "metadata": {},
   "outputs": [
    {
     "data": {
      "text/plain": [
       "\"Here's the translation, along with some notes:\\n\\n* **Formal:**\\n    * **Bonjour** (Hello)\\n    * **Comment allez-vous ?** (How are you?)\\n\\n* **Informal:**\\n    * **Salut** (Hello)\\n    * **Comment vas-tu ?** (How are you? - singular, used with friends and family) \\n\\n\\n\\nLet me know if you'd like me to translate anything else!\\n\""
      ]
     },
     "execution_count": 8,
     "metadata": {},
     "output_type": "execute_result"
    }
   ],
   "source": [
    "### Using LCEL - Chain the components\n",
    "chain=model|parser\n",
    "chain.invoke(messages)"
   ]
  },
  {
   "cell_type": "code",
   "execution_count": 9,
   "metadata": {},
   "outputs": [],
   "source": [
    "##Prompt Templates\n",
    "from langchain_core.prompts import ChatPromptTemplate\n",
    "\n",
    "generic_template='Translate the following into {language}:'\n",
    "\n",
    "prompt=ChatPromptTemplate.from_messages(\n",
    "    [('system',generic_template),('user','{text}')]\n",
    ")\n"
   ]
  },
  {
   "cell_type": "code",
   "execution_count": 10,
   "metadata": {},
   "outputs": [],
   "source": [
    "result=prompt.invoke({'language':'French','text':'Hello'})"
   ]
  },
  {
   "cell_type": "code",
   "execution_count": 11,
   "metadata": {},
   "outputs": [
    {
     "data": {
      "text/plain": [
       "[SystemMessage(content='Translate the following into French:'),\n",
       " HumanMessage(content='Hello')]"
      ]
     },
     "execution_count": 11,
     "metadata": {},
     "output_type": "execute_result"
    }
   ],
   "source": [
    "result.to_messages()\n"
   ]
  },
  {
   "cell_type": "code",
   "execution_count": 12,
   "metadata": {},
   "outputs": [
    {
     "data": {
      "text/plain": [
       "'The French translation for \"Hello\" is \"**Bonjour**\". \\n\\nIs there anything else you\\'d like to translate? 😊 \\n'"
      ]
     },
     "execution_count": 12,
     "metadata": {},
     "output_type": "execute_result"
    }
   ],
   "source": [
    "##chaining together components with LECL\n",
    "chain=prompt|model|parser\n",
    "chain.invoke({'language':'French','text':'Hello'})"
   ]
  },
  {
   "cell_type": "code",
   "execution_count": null,
   "metadata": {},
   "outputs": [],
   "source": []
  },
  {
   "cell_type": "code",
   "execution_count": null,
   "metadata": {},
   "outputs": [],
   "source": []
  }
 ],
 "metadata": {
  "kernelspec": {
   "display_name": "Python 3",
   "language": "python",
   "name": "python3"
  },
  "language_info": {
   "codemirror_mode": {
    "name": "ipython",
    "version": 3
   },
   "file_extension": ".py",
   "mimetype": "text/x-python",
   "name": "python",
   "nbconvert_exporter": "python",
   "pygments_lexer": "ipython3",
   "version": "3.11.0"
  }
 },
 "nbformat": 4,
 "nbformat_minor": 2
}
